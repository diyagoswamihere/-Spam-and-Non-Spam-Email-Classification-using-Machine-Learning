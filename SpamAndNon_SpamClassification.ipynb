{
  "nbformat": 4,
  "nbformat_minor": 0,
  "metadata": {
    "colab": {
      "provenance": [],
      "gpuType": "T4"
    },
    "kernelspec": {
      "name": "python3",
      "display_name": "Python 3"
    },
    "language_info": {
      "name": "python"
    },
    "accelerator": "GPU"
  },
  "cells": [
    {
      "cell_type": "code",
      "source": [
        "import kagglehub\n",
        "import pandas as pd\n",
        "import os\n",
        "from sklearn.model_selection import train_test_split, cross_val_score\n",
        "from sklearn.feature_extraction.text import TfidfVectorizer\n",
        "from sklearn.naive_bayes import MultinomialNB\n",
        "from sklearn.linear_model import LogisticRegression\n",
        "from sklearn.ensemble import RandomForestClassifier\n",
        "from sklearn.metrics import classification_report, accuracy_score"
      ],
      "metadata": {
        "id": "c0ODgqV2Qew5"
      },
      "execution_count": 17,
      "outputs": []
    },
    {
      "cell_type": "code",
      "source": [
        "# Loading the dataset\n",
        "path = kagglehub.dataset_download(\"ganiyuolalekan/spam-assassin-email-classification-dataset\")\n",
        "df = pd.read_csv(os.path.join(path, \"spam_assassin.csv\"))"
      ],
      "metadata": {
        "id": "j5j1c9rtQi5w"
      },
      "execution_count": 20,
      "outputs": []
    },
    {
      "cell_type": "code",
      "source": [
        "# Droping rows with missing target or text\n",
        "df = df.dropna(subset=['target', 'text'])\n",
        "df['target'] = df['target'].astype(int)"
      ],
      "metadata": {
        "id": "EKeaDlcDQnzk"
      },
      "execution_count": 21,
      "outputs": []
    },
    {
      "cell_type": "code",
      "source": [
        "# Making test and train split\n",
        "X_train, X_test, y_train, y_test = train_test_split(df['text'], df['target'], test_size=0.2, random_state=42)"
      ],
      "metadata": {
        "id": "7GeAsKZSRrR4"
      },
      "execution_count": 22,
      "outputs": []
    },
    {
      "cell_type": "code",
      "source": [
        "# Vectorization\n",
        "vectorizer = TfidfVectorizer(stop_words='english', max_features=5000)\n",
        "X_train_vec = vectorizer.fit_transform(X_train)\n",
        "X_test_vec = vectorizer.transform(X_test)"
      ],
      "metadata": {
        "id": "TLxp2nSCSE5o"
      },
      "execution_count": 23,
      "outputs": []
    },
    {
      "cell_type": "code",
      "source": [
        "#Model training and evaluation\n",
        "models = {\n",
        "    \"Logistic Regression\": LogisticRegression(max_iter=1000),\n",
        "    \"Naive Bayes\": MultinomialNB(),\n",
        "    \"Random Forest\": RandomForestClassifier(n_estimators=100, random_state=42)\n",
        "}\n",
        "\n",
        "for name, model in models.items():\n",
        "    model.fit(X_train_vec, y_train)\n",
        "    preds = model.predict(X_test_vec)\n",
        "    print(f\"\\n--- {name} ---\")\n",
        "    print(\"Accuracy:\", accuracy_score(y_test, preds))\n",
        "    print(classification_report(y_test, preds, target_names=[\"Not Spam\", \"Spam\"]))"
      ],
      "metadata": {
        "colab": {
          "base_uri": "https://localhost:8080/"
        },
        "id": "Md9AlxaBTr6_",
        "outputId": "eaf5843f-d7a5-41d8-c598-43a3fcbe2696"
      },
      "execution_count": 24,
      "outputs": [
        {
          "output_type": "stream",
          "name": "stdout",
          "text": [
            "\n",
            "--- Logistic Regression ---\n",
            "Accuracy: 0.9887931034482759\n",
            "              precision    recall  f1-score   support\n",
            "\n",
            "    Not Spam       0.98      1.00      0.99       779\n",
            "        Spam       1.00      0.97      0.98       381\n",
            "\n",
            "    accuracy                           0.99      1160\n",
            "   macro avg       0.99      0.98      0.99      1160\n",
            "weighted avg       0.99      0.99      0.99      1160\n",
            "\n",
            "\n",
            "--- Naive Bayes ---\n",
            "Accuracy: 0.9853448275862069\n",
            "              precision    recall  f1-score   support\n",
            "\n",
            "    Not Spam       0.98      1.00      0.99       779\n",
            "        Spam       1.00      0.96      0.98       381\n",
            "\n",
            "    accuracy                           0.99      1160\n",
            "   macro avg       0.99      0.98      0.98      1160\n",
            "weighted avg       0.99      0.99      0.99      1160\n",
            "\n",
            "\n",
            "--- Random Forest ---\n",
            "Accuracy: 0.9939655172413793\n",
            "              precision    recall  f1-score   support\n",
            "\n",
            "    Not Spam       0.99      1.00      1.00       779\n",
            "        Spam       1.00      0.98      0.99       381\n",
            "\n",
            "    accuracy                           0.99      1160\n",
            "   macro avg       0.99      0.99      0.99      1160\n",
            "weighted avg       0.99      0.99      0.99      1160\n",
            "\n"
          ]
        }
      ]
    }
  ]
}